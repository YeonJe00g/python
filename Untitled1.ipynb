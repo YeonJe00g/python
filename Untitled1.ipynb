{
 "cells": [
  {
   "cell_type": "code",
   "execution_count": 1,
   "metadata": {},
   "outputs": [],
   "source": [
    "#분포를 찾아내기 위한 학습모델, 30개의 샘플이 있어야한다\n",
    "#분산 자유도 다 까먹음 .ㅎ.ㅎ.ㅎ\n",
    "#관계성이 얼마나 강한지는 공분산을 이용해 했다. \n",
    "#X로부터 Y를 예측하려 하면 REGRESSION \n",
    "#scattergrams 점찍어서 상관관계 보는것 \n",
    "#covariance x가 증가하고 y가 증가하면 pos\n",
    "#covariance 채로 판단할수없다. "
   ]
  },
  {
   "cell_type": "code",
   "execution_count": null,
   "metadata": {},
   "outputs": [],
   "source": [
    "#k-means +는 중심점?을 기준으로 점점 군집을 찾아간다. \n",
    "#***실루엣 알고리즘***은 응집도와 결합도?다른 클래스와의 거리가 멀어야 좋음 \n",
    "#실루엣 스코어로 클래스 비교?가능....\n",
    "#k-means는 원형으로만 군집이 가능하다(단점)\n",
    "#hierarchical clustering \n",
    "#체인 이펙트?............ 여러개의 군집은 가능하나 체인 이펙트가 있으면 안돼?.....\n",
    "#dbscan 밀집되어있는 정도로 군집 처리한다. (잘안쓴다.)\n"
   ]
  },
  {
   "cell_type": "code",
   "execution_count": null,
   "metadata": {},
   "outputs": [],
   "source": [
    "#indexing을 학습이라고 한다. ?..\n",
    "#오버핏 vs 언더핏 테스트가 갑자기 팅기면 오버핏팅\n",
    "#에러와 트레이닝 폭이 줄어야 좋은것이다. \n",
    "# k-fold 가까이에 있는애를 나랑 연관이 있다고 생각함.... ?,,,,,\n",
    "# kmens 단점은 오버핏팅이 잘 된다.?..\n"
   ]
  },
  {
   "cell_type": "code",
   "execution_count": 2,
   "metadata": {},
   "outputs": [],
   "source": [
    "#navia?... \n",
    "#svm 오버피팅을 피하기 위해 많이 썼었다. sgn(w*x + b) ->선형으로만 선을 쪼갤수있게 한다. ?...\n",
    "#nonlinear svms 2차원을 3차원으로 변화시킬때 사용한다...\n",
    "#멀티클래스? 어케 할꺼냐 one to others / one to one \n",
    "#decision trees ** 큰 결정력을 올리는애를 제일 위에 올려서 layer를 낮춰라!\n",
    "#jin index "
   ]
  },
  {
   "cell_type": "code",
   "execution_count": null,
   "metadata": {},
   "outputs": [],
   "source": []
  }
 ],
 "metadata": {
  "kernelspec": {
   "display_name": "Python 3",
   "language": "python",
   "name": "python3"
  },
  "language_info": {
   "codemirror_mode": {
    "name": "ipython",
    "version": 3
   },
   "file_extension": ".py",
   "mimetype": "text/x-python",
   "name": "python",
   "nbconvert_exporter": "python",
   "pygments_lexer": "ipython3",
   "version": "3.7.6"
  }
 },
 "nbformat": 4,
 "nbformat_minor": 4
}
